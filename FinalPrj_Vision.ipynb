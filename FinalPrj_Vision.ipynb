{
  "nbformat": 4,
  "nbformat_minor": 0,
  "metadata": {
    "colab": {
      "provenance": []
    },
    "kernelspec": {
      "name": "python3",
      "display_name": "Python 3"
    },
    "language_info": {
      "name": "python"
    }
  },
  "cells": [
    {
      "cell_type": "code",
      "execution_count": 1,
      "metadata": {
        "colab": {
          "base_uri": "https://localhost:8080/"
        },
        "id": "EmgnSjvv4Qdq",
        "outputId": "d3c3d2dd-d911-48f6-9f76-b3a880a7eab1"
      },
      "outputs": [
        {
          "output_type": "stream",
          "name": "stdout",
          "text": [
            "Mounted at /content/drive\n"
          ]
        }
      ],
      "source": [
        "from google.colab import drive\n",
        "drive.mount('/content/drive')"
      ]
    },
    {
      "cell_type": "code",
      "source": [
        "import numpy as np\n",
        "import os\n",
        "import PIL\n",
        "import PIL.Image\n",
        "import matplotlib.pyplot as plt\n",
        "import tensorflow as tf\n",
        "import tensorflow_datasets as tfds"
      ],
      "metadata": {
        "id": "j_a2oRFh4jHa"
      },
      "execution_count": 2,
      "outputs": []
    },
    {
      "cell_type": "code",
      "source": [
        "url = 'https://drive.google.com/uc?id={}'.format(\"1WfhmjbtNr3swXnP_cHrZXukYmOPAmFCr\")"
      ],
      "metadata": {
        "id": "06BMsYU446Oi"
      },
      "execution_count": 3,
      "outputs": []
    },
    {
      "cell_type": "code",
      "source": [
        "path_to_zip = tf.keras.utils.get_file('Data.zip', origin=url, extract=True)\n",
        "PATH = os.path.join(os.path.dirname(path_to_zip), 'Data')"
      ],
      "metadata": {
        "colab": {
          "base_uri": "https://localhost:8080/"
        },
        "id": "oVAStLCi4-dy",
        "outputId": "090f0520-5793-4cd6-a92f-4b273e70eae8"
      },
      "execution_count": 4,
      "outputs": [
        {
          "output_type": "stream",
          "name": "stdout",
          "text": [
            "Downloading data from https://drive.google.com/uc?id=1WfhmjbtNr3swXnP_cHrZXukYmOPAmFCr\n",
            "19484567/19484567 [==============================] - 1s 0us/step\n"
          ]
        }
      ]
    },
    {
      "cell_type": "code",
      "source": [
        "batch_size = 32\n",
        "img_height = 160\n",
        "img_width = 160"
      ],
      "metadata": {
        "id": "IRQq45wa5cLw"
      },
      "execution_count": 23,
      "outputs": []
    },
    {
      "cell_type": "code",
      "source": [
        "train_ds = tf.keras.utils.image_dataset_from_directory(\n",
        "  PATH,\n",
        "  validation_split=0.2,\n",
        "  subset=\"training\",\n",
        "  seed=123,\n",
        "  image_size=(img_height, img_width),\n",
        "  batch_size=batch_size)"
      ],
      "metadata": {
        "colab": {
          "base_uri": "https://localhost:8080/"
        },
        "id": "PoXwwN1N5h89",
        "outputId": "dc4c55dc-732f-4977-f3a0-778193aa45f1"
      },
      "execution_count": 24,
      "outputs": [
        {
          "output_type": "stream",
          "name": "stdout",
          "text": [
            "Found 3884 files belonging to 2 classes.\n",
            "Using 3108 files for training.\n"
          ]
        }
      ]
    },
    {
      "cell_type": "code",
      "source": [
        "val_ds = tf.keras.utils.image_dataset_from_directory(\n",
        "  PATH,\n",
        "  validation_split=0.2,\n",
        "  subset=\"validation\",\n",
        "  seed=123,\n",
        "  image_size=(img_height, img_width),\n",
        "  batch_size=batch_size)"
      ],
      "metadata": {
        "colab": {
          "base_uri": "https://localhost:8080/"
        },
        "id": "p22nCniD55tq",
        "outputId": "5331e6c1-70bc-40f9-c3a7-88c45f678713"
      },
      "execution_count": 25,
      "outputs": [
        {
          "output_type": "stream",
          "name": "stdout",
          "text": [
            "Found 3884 files belonging to 2 classes.\n",
            "Using 776 files for validation.\n"
          ]
        }
      ]
    },
    {
      "cell_type": "code",
      "source": [
        "# class_names = train_ds.class_names\n",
        "\n",
        "plt.figure(figsize=(10, 10))\n",
        "for images, labels in train_ds.take(1):\n",
        "  for i in range(9):\n",
        "    ax = plt.subplot(3, 3, i + 1)\n",
        "    plt.imshow(images[i].numpy().astype(\"uint8\"))\n",
        "    # plt.title(class_names[labels[i]])\n",
        "    plt.axis(\"off\")"
      ],
      "metadata": {
        "id": "RqN6gFT2r_A2"
      },
      "execution_count": null,
      "outputs": []
    },
    {
      "cell_type": "code",
      "source": [
        "val_batches = tf.data.experimental.cardinality(val_ds)\n",
        "test_ds = val_ds.take(val_batches // 5)\n",
        "val_ds = val_ds.skip(val_batches // 5)"
      ],
      "metadata": {
        "id": "Cmz2pL5B9H-p"
      },
      "execution_count": 26,
      "outputs": []
    },
    {
      "cell_type": "code",
      "source": [
        "print('Number of validation batches: %d' % tf.data.experimental.cardinality(val_ds))\n",
        "print('Number of test batches: %d' % tf.data.experimental.cardinality(test_ds))"
      ],
      "metadata": {
        "colab": {
          "base_uri": "https://localhost:8080/"
        },
        "id": "X_hBUUno90Ea",
        "outputId": "e2c6e566-dd56-48b5-cba5-b33ad0896af2"
      },
      "execution_count": 27,
      "outputs": [
        {
          "output_type": "stream",
          "name": "stdout",
          "text": [
            "Number of validation batches: 20\n",
            "Number of test batches: 5\n"
          ]
        }
      ]
    },
    {
      "cell_type": "code",
      "source": [
        "AUTOTUNE = tf.data.AUTOTUNE\n",
        "\n",
        "train_ds = train_ds.prefetch(buffer_size=AUTOTUNE)\n",
        "val_ds = val_ds.prefetch(buffer_size = AUTOTUNE)\n",
        "test_ds = test_ds.prefetch(buffer_size = AUTOTUNE)"
      ],
      "metadata": {
        "id": "8W32Ppa68djB"
      },
      "execution_count": 28,
      "outputs": []
    },
    {
      "cell_type": "code",
      "source": [
        "data_augmentation = tf.keras.Sequential([\n",
        "  tf.keras.layers.RandomFlip('horizontal'),\n",
        "  tf.keras.layers.RandomRotation(0.2),\n",
        "])"
      ],
      "metadata": {
        "id": "o5fV_3DY-323"
      },
      "execution_count": 29,
      "outputs": []
    },
    {
      "cell_type": "code",
      "source": [
        "for image, _ in train_ds.take(1):\n",
        "  plt.figure(figsize=(10, 10))\n",
        "  first_image = image[0]\n",
        "  for i in range(9):\n",
        "    ax = plt.subplot(3, 3, i + 1)\n",
        "    augmented_image = data_augmentation(tf.expand_dims(first_image, 0))\n",
        "    plt.imshow(augmented_image[0] / 255)\n",
        "    plt.axis('off')"
      ],
      "metadata": {
        "id": "i9JbQiiN_bsv"
      },
      "execution_count": null,
      "outputs": []
    },
    {
      "cell_type": "code",
      "source": [
        "preprocess_input = tf.keras.applications.mobilenet_v2.preprocess_input"
      ],
      "metadata": {
        "id": "c0G9rkUIY-sh"
      },
      "execution_count": 31,
      "outputs": []
    },
    {
      "cell_type": "code",
      "source": [
        "IMG_SHAPE = (img_width, img_height) + (3,)\n",
        "base_model = tf.keras.applications.MobileNetV2(input_shape=IMG_SHAPE,\n",
        "                                               include_top=False,\n",
        "                                               weights='imagenet')"
      ],
      "metadata": {
        "colab": {
          "base_uri": "https://localhost:8080/"
        },
        "id": "t27MYC8BZT1m",
        "outputId": "36242181-89f2-408a-8b9d-29f27422874d"
      },
      "execution_count": 32,
      "outputs": [
        {
          "output_type": "stream",
          "name": "stdout",
          "text": [
            "Downloading data from https://storage.googleapis.com/tensorflow/keras-applications/mobilenet_v2/mobilenet_v2_weights_tf_dim_ordering_tf_kernels_1.0_160_no_top.h5\n",
            "9406464/9406464 [==============================] - 0s 0us/step\n"
          ]
        }
      ]
    },
    {
      "cell_type": "code",
      "source": [
        "image_batch, label_batch = next(iter(train_ds))\n",
        "feature_batch = base_model(image_batch)\n",
        "print(feature_batch.shape)"
      ],
      "metadata": {
        "colab": {
          "base_uri": "https://localhost:8080/"
        },
        "id": "WZRuGdVzaaWU",
        "outputId": "139201a0-0edb-4671-b8e6-a3f9bde28db6"
      },
      "execution_count": 33,
      "outputs": [
        {
          "output_type": "stream",
          "name": "stdout",
          "text": [
            "(32, 5, 5, 1280)\n"
          ]
        }
      ]
    },
    {
      "cell_type": "code",
      "source": [
        "base_model.trainable = False"
      ],
      "metadata": {
        "id": "34rAD1Udbdar"
      },
      "execution_count": 34,
      "outputs": []
    },
    {
      "cell_type": "code",
      "source": [
        "global_average_layer = tf.keras.layers.GlobalAveragePooling2D()\n",
        "feature_batch_average = global_average_layer(feature_batch)\n",
        "print(feature_batch_average.shape)"
      ],
      "metadata": {
        "colab": {
          "base_uri": "https://localhost:8080/"
        },
        "id": "Ao7mXcuncAgh",
        "outputId": "4c2818d0-04a8-47b8-db34-027e0c55cf6a"
      },
      "execution_count": 35,
      "outputs": [
        {
          "output_type": "stream",
          "name": "stdout",
          "text": [
            "(32, 1280)\n"
          ]
        }
      ]
    },
    {
      "cell_type": "code",
      "source": [
        "prediction_layer = tf.keras.layers.Dense(1)\n",
        "prediction_batch = prediction_layer(feature_batch_average)\n",
        "print(prediction_batch.shape)"
      ],
      "metadata": {
        "colab": {
          "base_uri": "https://localhost:8080/"
        },
        "id": "C5m6Kw_kca4l",
        "outputId": "b88178b1-1761-47c6-ec48-4d5248ec4744"
      },
      "execution_count": 36,
      "outputs": [
        {
          "output_type": "stream",
          "name": "stdout",
          "text": [
            "(32, 1)\n"
          ]
        }
      ]
    },
    {
      "cell_type": "code",
      "source": [
        "# from keras.applications.inception_v3 import preprocess_input\n",
        "inputs = tf.keras.Input(shape=(160, 160, 3))\n",
        "x =data_augmentation(inputs)\n",
        "x = preprocess_input(x)\n",
        "x = base_model(x, training=False)\n",
        "x = global_average_layer(x)\n",
        "x = tf.keras.layers.Dropout(0.2) (x)\n",
        "outputs = prediction_layer(x)\n",
        "model = tf.keras.Model(inputs, outputs)\n"
      ],
      "metadata": {
        "id": "BiJH_x4DcpsL"
      },
      "execution_count": 43,
      "outputs": []
    },
    {
      "cell_type": "code",
      "source": [
        "base_learning_rate = 0.0001\n",
        "model.compile(optimizer=tf.keras.optimizers.Adam(learning_rate=base_learning_rate),\n",
        "              loss=tf.keras.losses.BinaryCrossentropy(from_logits=True),\n",
        "              metrics=['accuracy'])"
      ],
      "metadata": {
        "id": "WcYA2gGWeptI"
      },
      "execution_count": 44,
      "outputs": []
    },
    {
      "cell_type": "code",
      "source": [
        "initial_epochs = 10"
      ],
      "metadata": {
        "id": "upwoLy8Res1k"
      },
      "execution_count": 45,
      "outputs": []
    },
    {
      "cell_type": "code",
      "source": [
        "history = model.fit(train_ds, epochs=initial_epochs, validation_data=val_ds)"
      ],
      "metadata": {
        "id": "X41uDiyGe24U",
        "colab": {
          "base_uri": "https://localhost:8080/"
        },
        "outputId": "f23bfe48-bb4b-4186-f29d-95cce78ca9ad"
      },
      "execution_count": 48,
      "outputs": [
        {
          "output_type": "stream",
          "name": "stdout",
          "text": [
            "Epoch 1/10\n",
            "98/98 [==============================] - 48s 488ms/step - loss: 0.5985 - accuracy: 0.6660 - val_loss: 0.5970 - val_accuracy: 0.6607\n",
            "Epoch 2/10\n",
            "98/98 [==============================] - 51s 523ms/step - loss: 0.5836 - accuracy: 0.6644 - val_loss: 0.6056 - val_accuracy: 0.6396\n",
            "Epoch 3/10\n",
            "98/98 [==============================] - 56s 568ms/step - loss: 0.5950 - accuracy: 0.6596 - val_loss: 0.5947 - val_accuracy: 0.6688\n",
            "Epoch 4/10\n",
            "98/98 [==============================] - 54s 550ms/step - loss: 0.5702 - accuracy: 0.6924 - val_loss: 0.5827 - val_accuracy: 0.6753\n",
            "Epoch 5/10\n",
            "98/98 [==============================] - 52s 535ms/step - loss: 0.5661 - accuracy: 0.6969 - val_loss: 0.5924 - val_accuracy: 0.6721\n",
            "Epoch 6/10\n",
            "98/98 [==============================] - 54s 550ms/step - loss: 0.5694 - accuracy: 0.6892 - val_loss: 0.5814 - val_accuracy: 0.6688\n",
            "Epoch 7/10\n",
            "98/98 [==============================] - 53s 547ms/step - loss: 0.5680 - accuracy: 0.6992 - val_loss: 0.5852 - val_accuracy: 0.6721\n",
            "Epoch 8/10\n",
            "98/98 [==============================] - 52s 526ms/step - loss: 0.5671 - accuracy: 0.6953 - val_loss: 0.5783 - val_accuracy: 0.6948\n",
            "Epoch 9/10\n",
            "98/98 [==============================] - 54s 551ms/step - loss: 0.5631 - accuracy: 0.6940 - val_loss: 0.5676 - val_accuracy: 0.6997\n",
            "Epoch 10/10\n",
            "98/98 [==============================] - 54s 548ms/step - loss: 0.5530 - accuracy: 0.7114 - val_loss: 0.5653 - val_accuracy: 0.7029\n"
          ]
        }
      ]
    },
    {
      "cell_type": "code",
      "source": [
        "loss, accuracy = model.evaluate(test_ds)\n",
        "print('Test accuracy :', accuracy)"
      ],
      "metadata": {
        "colab": {
          "base_uri": "https://localhost:8080/"
        },
        "id": "IlaGFRDtiSPa",
        "outputId": "b08a149a-f78b-4c48-dd92-a6c59d2deabe"
      },
      "execution_count": 49,
      "outputs": [
        {
          "output_type": "stream",
          "name": "stdout",
          "text": [
            "5/5 [==============================] - 2s 374ms/step - loss: 0.5339 - accuracy: 0.7000\n",
            "Test accuracy : 0.699999988079071\n"
          ]
        }
      ]
    },
    {
      "cell_type": "markdown",
      "source": [
        " **Fine Tuning**"
      ],
      "metadata": {
        "id": "nxMjRW0twMrn"
      }
    },
    {
      "cell_type": "code",
      "source": [
        "base_model.trainable = True"
      ],
      "metadata": {
        "id": "KmIEDGbrwKfz"
      },
      "execution_count": 50,
      "outputs": []
    },
    {
      "cell_type": "code",
      "source": [
        "# Let's take a look to see how many layers are in the base model\n",
        "print(\"Number of layers in the base model: \", len(base_model.layers))\n",
        "\n",
        "# Fine-tune from this layer onwards\n",
        "fine_tune_at = 100\n",
        "\n",
        "# Freeze all the layers before the `fine_tune_at` layer\n",
        "for layer in base_model.layers[:fine_tune_at]:\n",
        "  layer.trainable = False"
      ],
      "metadata": {
        "id": "xhFEEj6zwah0",
        "outputId": "cb972b24-5d9f-446c-d49b-6b09cc95aa69",
        "colab": {
          "base_uri": "https://localhost:8080/"
        }
      },
      "execution_count": 51,
      "outputs": [
        {
          "output_type": "stream",
          "name": "stdout",
          "text": [
            "Number of layers in the base model:  154\n"
          ]
        }
      ]
    },
    {
      "cell_type": "code",
      "source": [
        "model.compile(loss=tf.keras.losses.BinaryCrossentropy(from_logits=True),\n",
        "              optimizer = tf.keras.optimizers.RMSprop(learning_rate=base_learning_rate/10),\n",
        "              metrics=['accuracy'])"
      ],
      "metadata": {
        "id": "DLo2Iuq5wjy8"
      },
      "execution_count": 52,
      "outputs": []
    },
    {
      "cell_type": "code",
      "source": [
        "model.summary()"
      ],
      "metadata": {
        "id": "H0-ohJqawp0r",
        "outputId": "4931f058-f007-42fe-cc18-35b3267258b8",
        "colab": {
          "base_uri": "https://localhost:8080/"
        }
      },
      "execution_count": 53,
      "outputs": [
        {
          "output_type": "stream",
          "name": "stdout",
          "text": [
            "Model: \"model_2\"\n",
            "_________________________________________________________________\n",
            " Layer (type)                Output Shape              Param #   \n",
            "=================================================================\n",
            " input_5 (InputLayer)        [(None, 160, 160, 3)]     0         \n",
            "                                                                 \n",
            " sequential_1 (Sequential)   (None, None, None, 3)     0         \n",
            "                                                                 \n",
            " tf.math.truediv_2 (TFOpLamb  (None, 160, 160, 3)      0         \n",
            " da)                                                             \n",
            "                                                                 \n",
            " tf.math.subtract_2 (TFOpLam  (None, 160, 160, 3)      0         \n",
            " bda)                                                            \n",
            "                                                                 \n",
            " mobilenetv2_1.00_160 (Funct  (None, 5, 5, 1280)       2257984   \n",
            " ional)                                                          \n",
            "                                                                 \n",
            " global_average_pooling2d_1   (None, 1280)             0         \n",
            " (GlobalAveragePooling2D)                                        \n",
            "                                                                 \n",
            " dropout_2 (Dropout)         (None, 1280)              0         \n",
            "                                                                 \n",
            " dense_1 (Dense)             (None, 1)                 1281      \n",
            "                                                                 \n",
            "=================================================================\n",
            "Total params: 2,259,265\n",
            "Trainable params: 1,862,721\n",
            "Non-trainable params: 396,544\n",
            "_________________________________________________________________\n"
          ]
        }
      ]
    },
    {
      "cell_type": "code",
      "source": [
        "fine_tune_epochs = 10\n",
        "total_epochs =  initial_epochs + fine_tune_epochs\n",
        "\n",
        "history_fine = model.fit(train_ds,\n",
        "                         epochs=total_epochs,\n",
        "                         initial_epoch=history.epoch[-1],\n",
        "                         validation_data=val_ds)"
      ],
      "metadata": {
        "id": "z1PwzGCWwxtd",
        "outputId": "3414fb48-703b-4b3a-99ff-708c37e9e2b5",
        "colab": {
          "base_uri": "https://localhost:8080/"
        }
      },
      "execution_count": 54,
      "outputs": [
        {
          "output_type": "stream",
          "name": "stdout",
          "text": [
            "Epoch 10/20\n",
            "98/98 [==============================] - 84s 815ms/step - loss: 0.5218 - accuracy: 0.7310 - val_loss: 0.4906 - val_accuracy: 0.7354\n",
            "Epoch 11/20\n",
            "98/98 [==============================] - 80s 813ms/step - loss: 0.4462 - accuracy: 0.7838 - val_loss: 0.4723 - val_accuracy: 0.8084\n",
            "Epoch 12/20\n",
            "98/98 [==============================] - 75s 765ms/step - loss: 0.3986 - accuracy: 0.8160 - val_loss: 0.4980 - val_accuracy: 0.7045\n",
            "Epoch 13/20\n",
            "98/98 [==============================] - 79s 803ms/step - loss: 0.3730 - accuracy: 0.8272 - val_loss: 0.4369 - val_accuracy: 0.7630\n",
            "Epoch 14/20\n",
            "98/98 [==============================] - 78s 798ms/step - loss: 0.3409 - accuracy: 0.8436 - val_loss: 0.3053 - val_accuracy: 0.8653\n",
            "Epoch 15/20\n",
            "98/98 [==============================] - 78s 801ms/step - loss: 0.3246 - accuracy: 0.8559 - val_loss: 0.3104 - val_accuracy: 0.8442\n",
            "Epoch 16/20\n",
            "98/98 [==============================] - 78s 798ms/step - loss: 0.2992 - accuracy: 0.8674 - val_loss: 0.2869 - val_accuracy: 0.8750\n",
            "Epoch 17/20\n",
            "98/98 [==============================] - 80s 813ms/step - loss: 0.2807 - accuracy: 0.8755 - val_loss: 0.2838 - val_accuracy: 0.8782\n",
            "Epoch 18/20\n",
            "98/98 [==============================] - 80s 811ms/step - loss: 0.2631 - accuracy: 0.8877 - val_loss: 0.2804 - val_accuracy: 0.8685\n",
            "Epoch 19/20\n",
            "98/98 [==============================] - 74s 757ms/step - loss: 0.2556 - accuracy: 0.8855 - val_loss: 0.3208 - val_accuracy: 0.8458\n",
            "Epoch 20/20\n",
            "98/98 [==============================] - 78s 796ms/step - loss: 0.2591 - accuracy: 0.8890 - val_loss: 0.2755 - val_accuracy: 0.8766\n"
          ]
        }
      ]
    },
    {
      "cell_type": "code",
      "source": [
        "loss, accuracy = model.evaluate(test_ds)\n",
        "print('Test accuracy :', accuracy)"
      ],
      "metadata": {
        "id": "kwwOc6bExDMq",
        "outputId": "e01e57c3-79e6-4439-e0b0-2eeb812c74ec",
        "colab": {
          "base_uri": "https://localhost:8080/"
        }
      },
      "execution_count": 55,
      "outputs": [
        {
          "output_type": "stream",
          "name": "stdout",
          "text": [
            "5/5 [==============================] - 2s 358ms/step - loss: 0.2838 - accuracy: 0.8562\n",
            "Test accuracy : 0.856249988079071\n"
          ]
        }
      ]
    },
    {
      "cell_type": "code",
      "source": [
        "model.save(\"SmileDetection_model\")"
      ],
      "metadata": {
        "colab": {
          "base_uri": "https://localhost:8080/"
        },
        "id": "2bTg3DpuzFAV",
        "outputId": "63c2b8c5-cf9b-400a-8ed9-44c23f75ad08"
      },
      "execution_count": 56,
      "outputs": [
        {
          "output_type": "stream",
          "name": "stderr",
          "text": [
            "WARNING:absl:Found untraced functions such as _update_step_xla, _jit_compiled_convolution_op, _jit_compiled_convolution_op, _jit_compiled_convolution_op, _jit_compiled_convolution_op while saving (showing 5 of 53). These functions will not be directly callable after loading.\n"
          ]
        }
      ]
    },
    {
      "cell_type": "code",
      "source": [
        "ls SmileDetection_model"
      ],
      "metadata": {
        "colab": {
          "base_uri": "https://localhost:8080/"
        },
        "id": "HYdZ474Jz9pz",
        "outputId": "527fde50-acad-4751-cab8-3f0b83558cea"
      },
      "execution_count": 68,
      "outputs": [
        {
          "output_type": "stream",
          "name": "stdout",
          "text": [
            "\u001b[0m\u001b[01;34massets\u001b[0m/  fingerprint.pb  keras_metadata.pb  saved_model.pb  \u001b[01;34mvariables\u001b[0m/\n"
          ]
        }
      ]
    },
    {
      "cell_type": "code",
      "source": [
        "!zip -r /content/Smile_detection_model.zip /content/SmileDetection_model\n"
      ],
      "metadata": {
        "colab": {
          "base_uri": "https://localhost:8080/"
        },
        "id": "O3GOctXJ0_go",
        "outputId": "1f2dae56-ccde-4cb5-8080-a072ddc61b4b"
      },
      "execution_count": 69,
      "outputs": [
        {
          "output_type": "stream",
          "name": "stdout",
          "text": [
            "  adding: content/SmileDetection_model/ (stored 0%)\n",
            "  adding: content/SmileDetection_model/saved_model.pb (deflated 91%)\n",
            "  adding: content/SmileDetection_model/variables/ (stored 0%)\n",
            "  adding: content/SmileDetection_model/variables/variables.index (deflated 75%)\n",
            "  adding: content/SmileDetection_model/variables/variables.data-00000-of-00001 (deflated 8%)\n",
            "  adding: content/SmileDetection_model/assets/ (stored 0%)\n",
            "  adding: content/SmileDetection_model/keras_metadata.pb (deflated 96%)\n",
            "  adding: content/SmileDetection_model/fingerprint.pb (stored 0%)\n"
          ]
        }
      ]
    },
    {
      "cell_type": "code",
      "source": [
        "from google.colab import files\n",
        "files.download('Smile_detection_model.zip')"
      ],
      "metadata": {
        "colab": {
          "base_uri": "https://localhost:8080/",
          "height": 17
        },
        "id": "JwcELczv3o7g",
        "outputId": "8a2dc63e-8ce8-446f-8389-c57e13b0fd0d"
      },
      "execution_count": 70,
      "outputs": [
        {
          "output_type": "display_data",
          "data": {
            "text/plain": [
              "<IPython.core.display.Javascript object>"
            ],
            "application/javascript": [
              "\n",
              "    async function download(id, filename, size) {\n",
              "      if (!google.colab.kernel.accessAllowed) {\n",
              "        return;\n",
              "      }\n",
              "      const div = document.createElement('div');\n",
              "      const label = document.createElement('label');\n",
              "      label.textContent = `Downloading \"${filename}\": `;\n",
              "      div.appendChild(label);\n",
              "      const progress = document.createElement('progress');\n",
              "      progress.max = size;\n",
              "      div.appendChild(progress);\n",
              "      document.body.appendChild(div);\n",
              "\n",
              "      const buffers = [];\n",
              "      let downloaded = 0;\n",
              "\n",
              "      const channel = await google.colab.kernel.comms.open(id);\n",
              "      // Send a message to notify the kernel that we're ready.\n",
              "      channel.send({})\n",
              "\n",
              "      for await (const message of channel.messages) {\n",
              "        // Send a message to notify the kernel that we're ready.\n",
              "        channel.send({})\n",
              "        if (message.buffers) {\n",
              "          for (const buffer of message.buffers) {\n",
              "            buffers.push(buffer);\n",
              "            downloaded += buffer.byteLength;\n",
              "            progress.value = downloaded;\n",
              "          }\n",
              "        }\n",
              "      }\n",
              "      const blob = new Blob(buffers, {type: 'application/binary'});\n",
              "      const a = document.createElement('a');\n",
              "      a.href = window.URL.createObjectURL(blob);\n",
              "      a.download = filename;\n",
              "      div.appendChild(a);\n",
              "      a.click();\n",
              "      div.remove();\n",
              "    }\n",
              "  "
            ]
          },
          "metadata": {}
        },
        {
          "output_type": "display_data",
          "data": {
            "text/plain": [
              "<IPython.core.display.Javascript object>"
            ],
            "application/javascript": [
              "download(\"download_ab7a5899-a054-41a5-9773-a1ab539ed116\", \"Smile_detection_model.zip\", 15731140)"
            ]
          },
          "metadata": {}
        }
      ]
    }
  ]
}